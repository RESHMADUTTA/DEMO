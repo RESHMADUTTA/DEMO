{
  "nbformat": 4,
  "nbformat_minor": 0,
  "metadata": {
    "colab": {
      "provenance": [],
      "authorship_tag": "ABX9TyMPjYIgN3j5hPpSWP58aXKH",
      "include_colab_link": true
    },
    "kernelspec": {
      "name": "python3",
      "display_name": "Python 3"
    },
    "language_info": {
      "name": "python"
    }
  },
  "cells": [
    {
      "cell_type": "markdown",
      "metadata": {
        "id": "view-in-github",
        "colab_type": "text"
      },
      "source": [
        "<a href=\"https://colab.research.google.com/github/RESHMADUTTA/DEMO/blob/main/reshma_datascience_junebatch.ipynb\" target=\"_parent\"><img src=\"https://colab.research.google.com/assets/colab-badge.svg\" alt=\"Open In Colab\"/></a>"
      ]
    },
    {
      "cell_type": "code",
      "execution_count": 1,
      "metadata": {
        "colab": {
          "base_uri": "https://localhost:8080/"
        },
        "id": "3nQJ2g1Yrw5k",
        "outputId": "f7be4abd-eb49-42be-accb-5132130d0112"
      },
      "outputs": [
        {
          "output_type": "stream",
          "name": "stdout",
          "text": [
            "Total points gained by Team Aravali: 30\n"
          ]
        }
      ],
      "source": [
        "#Problem 1\n",
        "# In a cricket tournament, based on the outcome of a particular match a team gets following points:\n",
        "\n",
        "# wins gets 7 points\n",
        "# draws gets 2 points\n",
        "# losses gets 0 points\n",
        "# Team Aravali plays 8 matches in this tournament. It wins 4 matches, loses 3 matches and draws 1. What is the total number of points gained by the Team aravali ?\n",
        "\n",
        "\n",
        "# a) The outcome variables are defined below?\n",
        "# b) Calculate the total points gained by Team Aravali and print.\n",
        "\n",
        "points_win = 7\n",
        "points_draw = 2\n",
        "points_loss = 0\n",
        "\n",
        "matches_won = 4\n",
        "matches_lost = 3\n",
        "matches_drawn = 1\n",
        "\n",
        "total_points = (matches_won * points_win) + (matches_drawn * points_draw) + (matches_lost * points_loss)\n",
        "\n",
        "print(f\"Total points gained by Team Aravali: {total_points}\")\n"
      ]
    },
    {
      "cell_type": "code",
      "source": [
        "# Problem 2\n",
        "# Root of a function  f(x)  is defined as the value  x  where  f(x)=0\n",
        "# Consider a quadratic function  f(x)=x2+3x−4\n",
        "# Find the value of the function  f(x)  at points  x=7,x=−1,x=1 .\n",
        "#   a)Calculate the value of the function f(x) at x = 2.\n",
        "#   b) Calculate the value of the function f(x) at x = 1\n",
        "\n",
        "def f(x):\n",
        "    return x**2 + 3*x - 4\n",
        "\n",
        "x_values = [7, -1, 1, 2]\n",
        "\n",
        "results = {x: f(x) for x in x_values}\n",
        "results\n"
      ],
      "metadata": {
        "colab": {
          "base_uri": "https://localhost:8080/"
        },
        "id": "fVx2M9NFsW7C",
        "outputId": "524621f0-7441-4e61-a4ad-8023b20c26fc"
      },
      "execution_count": 2,
      "outputs": [
        {
          "output_type": "execute_result",
          "data": {
            "text/plain": [
              "{7: 66, -1: -6, 1: 0, 2: 6}"
            ]
          },
          "metadata": {},
          "execution_count": 2
        }
      ]
    },
    {
      "cell_type": "code",
      "source": [
        "# Problem 3\n",
        "# A list contains the average daily temperature(in degree Celsius) of a city over a particular week. Write a Python code to swap the highest and the lowest temperatures\n",
        "\n",
        "# a) A list containing average daily temperature over a week\n",
        "# temperatures = [34, 40, 29, 33, 42, 37, 39 ]\n",
        "\n",
        "# b) The expected output\n",
        "\n",
        "\n",
        "\n",
        "# c)Store the highest temperature\n",
        "\n",
        "\n",
        "# d) Index of the element with the highest temperature\n",
        "# max_temp_index =\n",
        "\n",
        "\n",
        "# e) Store the lowest temperature\n",
        "# min_temp =\n",
        "\n",
        "# f) Index of the element with the lowest temperature\n",
        "# min_temp_index =\n",
        "\n",
        "temperatures = [34, 40, 29, 33, 42, 37, 39]\n",
        "\n",
        "max_temp = max(temperatures)\n",
        "\n",
        "max_temp_index = temperatures.index(max_temp)\n",
        "\n",
        "min_temp = min(temperatures)\n",
        "\n",
        "min_temp_index = temperatures.index(min_temp)\n",
        "\n",
        "temperatures[max_temp_index], temperatures[min_temp_index] = min_temp, max_temp\n",
        "\n",
        "print(f\"Temperatures after swapping: {temperatures}\")\n"
      ],
      "metadata": {
        "colab": {
          "base_uri": "https://localhost:8080/"
        },
        "id": "rHCD_VR5sg8R",
        "outputId": "feefbff8-8a8e-4531-acf3-5626b54910bb"
      },
      "execution_count": 3,
      "outputs": [
        {
          "output_type": "stream",
          "name": "stdout",
          "text": [
            "Temperatures after swapping: [34, 40, 42, 33, 29, 37, 39]\n"
          ]
        }
      ]
    },
    {
      "cell_type": "code",
      "source": [
        "# problem 4\n",
        "\n",
        "# Calculate the median price\n",
        "\n",
        "# a) Step 1 - Obtain the sorted list\n",
        "# b)Check if the number of elements in the list is even or odd\n",
        "# c)Use the corresponding formula to calculate the median and print the median\n",
        "# d) Check which is greater, mean or median\n",
        "\n",
        "import statistics\n",
        "prices = [12, 34, 23, 45, 33, 67, 56, 78, 44, 21]\n",
        "sorted_prices = sorted(prices)\n",
        "n = len(sorted_prices)\n",
        "is_even = n % 2 == 0\n",
        "if is_even:\n",
        "    median = (sorted_prices[n//2 - 1] + sorted_prices[n//2]) / 2\n",
        "else:\n",
        "    median = sorted_prices[n//2]\n",
        "\n",
        "print(f\"Median price: {median}\")\n",
        "\n",
        "# Calculate the mean\n",
        "mean = sum(prices) / n\n",
        "\n",
        "if mean > median:\n",
        "    print(f\"The mean ({mean}) is greater than the median ({median}).\")\n",
        "elif mean < median:\n",
        "    print(f\"The median ({median}) is greater than the mean ({mean}).\")\n",
        "else:\n",
        "    print(f\"The mean ({mean}) is equal to the median ({median}).\")\n"
      ],
      "metadata": {
        "colab": {
          "base_uri": "https://localhost:8080/"
        },
        "id": "ACSGoeXgsyoV",
        "outputId": "f5a3c69e-30f4-4b1e-ff07-be2947ebade9"
      },
      "execution_count": 4,
      "outputs": [
        {
          "output_type": "stream",
          "name": "stdout",
          "text": [
            "Median price: 39.0\n",
            "The mean (41.3) is greater than the median (39.0).\n"
          ]
        }
      ]
    },
    {
      "cell_type": "code",
      "source": [
        "# Problem 5\n",
        "# Having a nested list sometimes might be a bit problematic. An individual was asked to collect the names of companies in the technology sector.\n",
        "#  While creating the list, by mistake the last three companies were subsumed in a list as shown below. You are required to get rid of the nesting\n",
        "\n",
        "# a)The list of tech companies curated by the individual\n",
        "# tech_companies = ['Qualcomm','Google','Apple',['Nvidia','Cisco','Samsung']]\n",
        "\n",
        "tech_companies = ['Qualcomm', 'Google', 'Apple', ['Nvidia', 'Cisco', 'Samsung']]\n",
        "flattened_tech_companies = tech_companies[:-1] + tech_companies[-1]\n",
        "print(f\"Flattened list of tech companies: {flattened_tech_companies}\")\n"
      ],
      "metadata": {
        "colab": {
          "base_uri": "https://localhost:8080/"
        },
        "id": "kZoOsqCGtBri",
        "outputId": "f654b27c-6265-438b-dd36-5f2735ad066e"
      },
      "execution_count": 5,
      "outputs": [
        {
          "output_type": "stream",
          "name": "stdout",
          "text": [
            "Flattened list of tech companies: ['Qualcomm', 'Google', 'Apple', 'Nvidia', 'Cisco', 'Samsung']\n"
          ]
        }
      ]
    },
    {
      "cell_type": "code",
      "source": [
        "# Problem 6\n",
        "# Another measure of average\n",
        "# Mode is defined as the value that appears most often in a set of data values. Mode corresponds to the most frequent value.\n",
        "# You are given a list of numbers and you need to calculate the mode of this list.\n",
        "\n",
        "#  A list containing average daily temperature over 10 days\n",
        "# temperatures = [34, 40, 29, 33, 42, 40, 39, 34, 34,33 ]\n",
        "\n",
        "import statistics\n",
        "temperatures = [34, 40, 29, 33, 42, 40, 39, 34, 34, 33]\n",
        "mode = statistics.mode(temperatures)\n",
        "print(f\"The mode of the temperatures is: {mode}\")\n"
      ],
      "metadata": {
        "colab": {
          "base_uri": "https://localhost:8080/"
        },
        "id": "GrJ7gYrytMkn",
        "outputId": "8c1f29bb-2f00-4aa3-a3f7-6229cce41215"
      },
      "execution_count": 6,
      "outputs": [
        {
          "output_type": "stream",
          "name": "stdout",
          "text": [
            "The mode of the temperatures is: 34\n"
          ]
        }
      ]
    }
  ]
}